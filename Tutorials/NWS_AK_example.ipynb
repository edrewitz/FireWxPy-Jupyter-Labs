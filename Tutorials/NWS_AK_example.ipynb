{
 "cells": [
  {
   "cell_type": "code",
   "execution_count": 1,
   "id": "865c9215-8888-40fb-ba35-292d9bec5f16",
   "metadata": {},
   "outputs": [],
   "source": [
    "'''\n",
    "In this example we will make graphics of the National Weather Service Maximum Temperature Forecast and Minimum Relative Humidity Forecast for Alaska Statewide\n",
    "\n",
    "Since we are only making 2 plots, we won't download the data outside of the function and pass it in, though if the user wishes to make a lot of graphics in\n",
    "a script, then downloading the graphics outside of the function and passing them in is the recommended method to \n",
    "reduce the amount of data requests on the server. Please refer to my AJK example on how to do that. \n",
    "\n",
    "The images will save to the following path structure f:Weather Data/NWS Forecasts/Type Of Forecast (i.e. NWS Max T)/AK/CWA\n",
    "\n",
    "If the forecast is for statewide like it will be in this example, the CWA will be: STATE\n",
    "Thus the full path to the graphics for the NWS Maximum Temperature Forecast will be f:Weather Data/NWS Forecasts/NWS Max T/AK/STATE\n",
    "\n",
    "'''\n",
    "# Imports the needed modules\n",
    "\n",
    "from firewxpy import nws_temperature_forecast_alaska as t\n",
    "from firewxpy import nws_relative_humidity_forecast_alaska as rh"
   ]
  },
  {
   "cell_type": "code",
   "execution_count": 2,
   "id": "cffb2468-1d4e-47bc-b379-8c5bdab3019a",
   "metadata": {},
   "outputs": [
    {
     "name": "stdout",
     "output_type": "stream",
     "text": [
      "Already Satisfied: NWS CWA Boundaries folder exists.\n",
      "Already Satisfied: NWS Fire Weather Zones folder exists.\n",
      "Already Satisfied: NWS Public Zones folder exists.\n",
      "Already Satisfied: GACC Boundaries Shapefiles folder exists.\n",
      "Already Satisfied: PSA Shapefiles folder exists.\n",
      "Shapefile imported successfully!\n",
      "Already Satisfied: NWS CWA Boundaries folder exists.\n",
      "Already Satisfied: NWS Fire Weather Zones folder exists.\n",
      "Already Satisfied: NWS Public Zones folder exists.\n",
      "Already Satisfied: GACC Boundaries Shapefiles folder exists.\n",
      "Already Satisfied: PSA Shapefiles folder exists.\n",
      "Shapefile imported successfully!\n",
      "Already Satisfied: NWS CWA Boundaries folder exists.\n",
      "Already Satisfied: NWS Fire Weather Zones folder exists.\n",
      "Already Satisfied: NWS Public Zones folder exists.\n",
      "Already Satisfied: GACC Boundaries Shapefiles folder exists.\n",
      "Already Satisfied: PSA Shapefiles folder exists.\n",
      "Already Satisfied: CWA Shapefile Exists.\n",
      "Shapefiles extracted successfully!\n",
      "Shapefile imported successfully!\n",
      "Already Satisfied: NWS CWA Boundaries folder exists.\n",
      "Already Satisfied: NWS Fire Weather Zones folder exists.\n",
      "Already Satisfied: NWS Public Zones folder exists.\n",
      "Already Satisfied: GACC Boundaries Shapefiles folder exists.\n",
      "Already Satisfied: PSA Shapefiles folder exists.\n",
      "Already Satisfied: FWZ Shapefile Exists.\n",
      "Shapefiles extracted successfully!\n",
      "Shapefile imported successfully!\n",
      "Already Satisfied: NWS CWA Boundaries folder exists.\n",
      "Already Satisfied: NWS Fire Weather Zones folder exists.\n",
      "Already Satisfied: NWS Public Zones folder exists.\n",
      "Already Satisfied: GACC Boundaries Shapefiles folder exists.\n",
      "Already Satisfied: PSA Shapefiles folder exists.\n",
      "Already Satisfied: FWZ Shapefile Exists.\n",
      "Shapefiles extracted successfully!\n",
      "Shapefile imported successfully!\n",
      "Unable to connect to server via FTP.\n",
      "Trying the backup method to download the file...\n"
     ]
    },
    {
     "name": "stderr",
     "output_type": "stream",
     "text": [
      "Ignoring index file 'ds.maxt_short.bin.5b7b6.idx' older than GRIB file\n",
      "Ignoring index file 'ds.maxt_extended.bin.5b7b6.idx' older than GRIB file\n"
     ]
    },
    {
     "name": "stdout",
     "output_type": "stream",
     "text": [
      "Retrieved the short-term Alaska grids.\n",
      "Retrieved the extended Alaska grids.\n"
     ]
    },
    {
     "name": "stderr",
     "output_type": "stream",
     "text": [
      "Ignoring index file 'ds.maxt.bin.5b7b6.idx' older than GRIB file\n"
     ]
    },
    {
     "name": "stdout",
     "output_type": "stream",
     "text": [
      "Data retrieved successfully!\n",
      "Downloaded data successfully!\n",
      "There are 7 GRIB files in the ds.maxt.bin download.\n",
      "\n",
      "The ds.maxt.bin forecast period began at 01/02/2025 18Z\n",
      "The current time of 01/02/2025 10:00 Local is before 15:00 (3PM)\n",
      "The first maximum temperature grid is still returned.\n",
      "\n",
      "There are 7 files returned.\n",
      "\n",
      "3 short-term files.\n",
      "4 extended files.\n",
      "There are 3 short-term step intervals.\n",
      "There are 4 extended step intervals.\n",
      "There are 7 total time steps.\n",
      "Creating Images - Please Wait...\n",
      "Already Satisfied: Weather Data folder exists.\n",
      "Already Satisfied: NWS Forecasts Directory exists.\n",
      "Already Satisfied: f:Weather Data/NWS Forecasts/NWS Max T exists.\n",
      "f:Weather Data/NWS Forecasts/NWS Max T/AK not found. Automatically building new branch to directory...\n",
      "Successfully built new branch to directory!\n",
      "Already Satisfied: NWS Forecasts Directory exists.\n",
      "Already Satisfied: NWS Forecasts GIFs Directory exists.\n",
      "Already Satisfied: f:Weather Data/NWS Forecasts/GIFs/NWS Max T exists.\n",
      "f:Weather Data/NWS Forecasts/GIFs/NWS Max T/AK not found. Building branch to directory.\n",
      "Successfully built new branch to directory!\n",
      "All frames saved.\n",
      "Individual images saved to: Weather Data/NWS Forecasts/NWS Max T/AK/States & Counties/STATE\n",
      "GIF saved to Weather Data/NWS Forecasts/GIFs/NWS Max T/AK/States & Counties/STATE\n",
      "Already Satisfied: NWS CWA Boundaries folder exists.\n",
      "Already Satisfied: NWS Fire Weather Zones folder exists.\n",
      "Already Satisfied: NWS Public Zones folder exists.\n",
      "Already Satisfied: GACC Boundaries Shapefiles folder exists.\n",
      "Already Satisfied: PSA Shapefiles folder exists.\n",
      "Shapefile imported successfully!\n",
      "Already Satisfied: NWS CWA Boundaries folder exists.\n",
      "Already Satisfied: NWS Fire Weather Zones folder exists.\n",
      "Already Satisfied: NWS Public Zones folder exists.\n",
      "Already Satisfied: GACC Boundaries Shapefiles folder exists.\n",
      "Already Satisfied: PSA Shapefiles folder exists.\n",
      "Shapefile imported successfully!\n",
      "Already Satisfied: NWS CWA Boundaries folder exists.\n",
      "Already Satisfied: NWS Fire Weather Zones folder exists.\n",
      "Already Satisfied: NWS Public Zones folder exists.\n",
      "Already Satisfied: GACC Boundaries Shapefiles folder exists.\n",
      "Already Satisfied: PSA Shapefiles folder exists.\n",
      "Already Satisfied: CWA Shapefile Exists.\n",
      "Shapefiles extracted successfully!\n",
      "Shapefile imported successfully!\n",
      "Already Satisfied: NWS CWA Boundaries folder exists.\n",
      "Already Satisfied: NWS Fire Weather Zones folder exists.\n",
      "Already Satisfied: NWS Public Zones folder exists.\n",
      "Already Satisfied: GACC Boundaries Shapefiles folder exists.\n",
      "Already Satisfied: PSA Shapefiles folder exists.\n",
      "Already Satisfied: FWZ Shapefile Exists.\n",
      "Shapefiles extracted successfully!\n",
      "Shapefile imported successfully!\n",
      "Already Satisfied: NWS CWA Boundaries folder exists.\n",
      "Already Satisfied: NWS Fire Weather Zones folder exists.\n",
      "Already Satisfied: NWS Public Zones folder exists.\n",
      "Already Satisfied: GACC Boundaries Shapefiles folder exists.\n",
      "Already Satisfied: PSA Shapefiles folder exists.\n",
      "Already Satisfied: FWZ Shapefile Exists.\n",
      "Shapefiles extracted successfully!\n",
      "Shapefile imported successfully!\n",
      "Unable to connect to server via FTP.\n",
      "Trying the backup method to download the file...\n"
     ]
    },
    {
     "name": "stderr",
     "output_type": "stream",
     "text": [
      "Ignoring index file 'ds.minrh_short.bin.5b7b6.idx' older than GRIB file\n",
      "Ignoring index file 'ds.minrh_extended.bin.5b7b6.idx' older than GRIB file\n"
     ]
    },
    {
     "name": "stdout",
     "output_type": "stream",
     "text": [
      "Retrieved the short-term Alaska grids.\n",
      "Retrieved the extended Alaska grids.\n"
     ]
    },
    {
     "name": "stderr",
     "output_type": "stream",
     "text": [
      "Ignoring index file 'ds.minrh.bin.5b7b6.idx' older than GRIB file\n"
     ]
    },
    {
     "name": "stdout",
     "output_type": "stream",
     "text": [
      "Data retrieved successfully!\n",
      "Downloaded data successfully!\n",
      "There are 7 GRIB files in the ds.minrh.bin download.\n",
      "\n",
      "The ds.minrh.bin forecast period begins at 01/02/2025 18Z\n",
      "\n",
      "There are 7 files returned.\n",
      "\n",
      "2 short-term files.\n",
      "5 extended files.\n",
      "There are 2 short-term step intervals.\n",
      "There are 5 extended step intervals.\n",
      "There are 7 total time steps.\n",
      "Creating Images - Please Wait...\n",
      "Already Satisfied: Weather Data folder exists.\n",
      "Already Satisfied: NWS Forecasts Directory exists.\n",
      "Already Satisfied: f:Weather Data/NWS Forecasts/NWS Minimum RH exists.\n",
      "f:Weather Data/NWS Forecasts/NWS Minimum RH/AK not found. Automatically building new branch to directory...\n",
      "Successfully built new branch to directory!\n",
      "Already Satisfied: NWS Forecasts Directory exists.\n",
      "Already Satisfied: NWS Forecasts GIFs Directory exists.\n",
      "Already Satisfied: f:Weather Data/NWS Forecasts/GIFs/NWS Minimum RH exists.\n",
      "f:Weather Data/NWS Forecasts/GIFs/NWS Minimum RH/AK not found. Building branch to directory.\n",
      "Successfully built new branch to directory!\n",
      "All frames saved.\n",
      "Individual images saved to: Weather Data/NWS Forecasts/NWS Minimum RH/AK/States & Counties/STATE\n",
      "GIF saved to Weather Data/NWS Forecasts/GIFs/NWS Minimum RH/AK/States & Counties/STATE\n"
     ]
    }
   ],
   "source": [
    "# Now it is time to make our plots\n",
    "\n",
    "t.plot_maximum_temperature_forecast()\n",
    "rh.plot_minimum_relative_humidity_forecast()"
   ]
  },
  {
   "cell_type": "code",
   "execution_count": null,
   "id": "02877866-a6e8-410f-b923-294b441475be",
   "metadata": {},
   "outputs": [],
   "source": []
  }
 ],
 "metadata": {
  "kernelspec": {
   "display_name": "Python 3 (ipykernel)",
   "language": "python",
   "name": "python3"
  },
  "language_info": {
   "codemirror_mode": {
    "name": "ipython",
    "version": 3
   },
   "file_extension": ".py",
   "mimetype": "text/x-python",
   "name": "python",
   "nbconvert_exporter": "python",
   "pygments_lexer": "ipython3",
   "version": "3.12.7"
  }
 },
 "nbformat": 4,
 "nbformat_minor": 5
}
